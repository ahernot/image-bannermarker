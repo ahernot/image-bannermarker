{
 "cells": [
  {
   "cell_type": "code",
   "execution_count": 1,
   "metadata": {},
   "outputs": [],
   "source": [
    "import os\n",
    "import cv2\n",
    "\n",
    "from preferences import *"
   ]
  },
  {
   "cell_type": "code",
   "execution_count": 2,
   "metadata": {},
   "outputs": [
    {
     "name": "stdout",
     "output_type": "stream",
     "text": [
      "(249, 4725, 3)\n",
      "(249, 7079, 3)\n"
     ]
    }
   ],
   "source": [
    "banner_path_portrait = 'src/banners/1-banner_32-20220328-portrait.tiff'\n",
    "banner_path_landscape = 'src/banners/1-banner_32-20220328-landscape.tiff'\n",
    "\n",
    "banner_portrait = cv2.imread(banner_path_portrait)\n",
    "banner_landscape = cv2.imread(banner_path_landscape)\n",
    "\n",
    "print(banner_portrait.shape)\n",
    "print(banner_landscape.shape)"
   ]
  },
  {
   "cell_type": "code",
   "execution_count": 3,
   "metadata": {},
   "outputs": [
    {
     "name": "stdout",
     "output_type": "stream",
     "text": [
      "test-portrait\n",
      "(6000, 4000, 3)\n",
      "(211, 4000, 3)\n",
      "test-landscape\n",
      "(4000, 6000, 3)\n",
      "(211, 6000, 3)\n"
     ]
    }
   ],
   "source": [
    "path = INPUT_PATH\n",
    "\n",
    "with os.scandir(path) as files:\n",
    "    for file in files:\n",
    "\n",
    "        # Check path type\n",
    "        if not file.is_file():\n",
    "            continue\n",
    "\n",
    "        filename, extension = os.path.splitext(file.name)\n",
    "        extension = extension[1:]\n",
    "        \n",
    "        if extension.lower() not in EXTENSIONS_IMAGES:\n",
    "            continue\n",
    "\n",
    "        image = cv2.imread(file.path)\n",
    "        iheight, iwidth, idepth = image.shape\n",
    "        print(filename)\n",
    "\n",
    "        # Choose banner (square default is landscape banner)\n",
    "        banner = banner_landscape\n",
    "        if iwidth < iheight:\n",
    "            banner = banner_portrait\n",
    "\n",
    "        bheight, bwidth, bdepth = banner.shape\n",
    "        bwidth_new = iwidth\n",
    "        bheight_new = round(bheight * (bwidth_new / bwidth))\n",
    "\n",
    "        banner_reshaped = cv2.resize(banner, (bwidth_new, bheight_new), interpolation=cv2.INTER_AREA)\n",
    "        \n",
    "        print(image.shape)\n",
    "        print(banner_reshaped.shape)\n",
    "\n",
    "\n",
    "        image[-bheight_new:, :] = banner_reshaped\n",
    "\n",
    "        path_out = f'output/{filename}-out.jpeg'\n",
    "        cv2.imwrite(path_out, image)\n",
    "\n",
    "\n",
    "\n",
    "\n",
    "        # ADD COLORS TO BANNER TEXT\n",
    "\n",
    "\n",
    "        "
   ]
  },
  {
   "cell_type": "code",
   "execution_count": null,
   "metadata": {},
   "outputs": [],
   "source": []
  }
 ],
 "metadata": {
  "interpreter": {
   "hash": "397704579725e15f5c7cb49fe5f0341eb7531c82d19f2c29d197e8b64ab5776b"
  },
  "kernelspec": {
   "display_name": "Python 3.9.0 64-bit",
   "language": "python",
   "name": "python3"
  },
  "language_info": {
   "codemirror_mode": {
    "name": "ipython",
    "version": 3
   },
   "file_extension": ".py",
   "mimetype": "text/x-python",
   "name": "python",
   "nbconvert_exporter": "python",
   "pygments_lexer": "ipython3",
   "version": "3.9.0"
  },
  "orig_nbformat": 4
 },
 "nbformat": 4,
 "nbformat_minor": 2
}
